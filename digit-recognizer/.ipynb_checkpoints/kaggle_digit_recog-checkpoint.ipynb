{
 "cells": [
  {
   "cell_type": "code",
   "execution_count": 22,
   "metadata": {},
   "outputs": [],
   "source": [
    "import csv\n",
    "import os\n",
    "import pandas\n",
    "import numpy as np\n",
    "import keras\n",
    "from sklearn.model_selection import train_test_split\n",
    "from keras.models import Sequential,load_model\n",
    "from keras.layers import Activation,Dense,Dropout\n",
    "from keras.utils import np_utils"
   ]
  },
  {
   "cell_type": "code",
   "execution_count": 23,
   "metadata": {},
   "outputs": [],
   "source": [
    "path=\"/ssd_scratch/cvit/ranjith\"\n",
    "x_train_path = os.path.join(path,'train.csv')\n",
    "x_test_path = os.path.join(path,'test.csv')\n",
    "train_data = pandas.read_csv(x_train_path)\n",
    "gt = train_data['label']\n",
    "labels_data = gt.to_numpy()\n",
    "labels = np_utils.to_categorical(labels_data)\n",
    "test_data = pandas.read_csv(x_test_path)\n",
    "df_train = train_data.drop('label', 1)\n",
    "data = df_train.to_numpy()\n",
    "x_test = test_data.to_numpy()\n",
    "x_train = data.astype('float')\n",
    "x_test = x_test.astype('float')\n",
    "x_train = x_train/255\n",
    "X_test = x_test/255"
   ]
  },
  {
   "cell_type": "code",
   "execution_count": 7,
   "metadata": {},
   "outputs": [],
   "source": [
    "X_train,X_dev,Y_train,Y_dev= train_test_split(x_train,labels,test_size=0.1)"
   ]
  },
  {
   "cell_type": "code",
   "execution_count": 8,
   "metadata": {},
   "outputs": [],
   "source": [
    "def mnist_model():\n",
    "    model = Sequential()\n",
    "    model.add(Dense(512,input_dim=784))\n",
    "    model.add(Dropout(0.2))\n",
    "    model.add(Activation('relu'))\n",
    "    model.add(Dense(128))\n",
    "    model.add(Dropout(0.2))\n",
    "    model.add(Activation('relu'))\n",
    "    model.add(Dense(10))\n",
    "    model.add(Activation('softmax'))\n",
    "    return model\n",
    "model = mnist_model()\n",
    "model.compile(loss='categorical_crossentropy',metrics=['accuracy'],optimizer='adam')"
   ]
  },
  {
   "cell_type": "code",
   "execution_count": 9,
   "metadata": {},
   "outputs": [
    {
     "name": "stdout",
     "output_type": "stream",
     "text": [
      "WARNING:tensorflow:From /home/ranjith.reddy/.local/lib/python3.7/site-packages/keras/backend/tensorflow_backend.py:422: The name tf.global_variables is deprecated. Please use tf.compat.v1.global_variables instead.\n",
      "\n",
      "Train on 37800 samples, validate on 4200 samples\n",
      "Epoch 1/40\n",
      "37800/37800 [==============================] - 2s 61us/step - loss: 0.3496 - accuracy: 0.8951 - val_loss: 0.1662 - val_accuracy: 0.9517\n",
      "Epoch 2/40\n",
      "37800/37800 [==============================] - 2s 54us/step - loss: 0.1381 - accuracy: 0.9586 - val_loss: 0.1345 - val_accuracy: 0.9633\n",
      "Epoch 3/40\n",
      "37800/37800 [==============================] - 2s 53us/step - loss: 0.0945 - accuracy: 0.9708 - val_loss: 0.1078 - val_accuracy: 0.9643\n",
      "Epoch 4/40\n",
      "37800/37800 [==============================] - 2s 54us/step - loss: 0.0709 - accuracy: 0.9780 - val_loss: 0.1073 - val_accuracy: 0.9683\n",
      "Epoch 5/40\n",
      "37800/37800 [==============================] - 2s 53us/step - loss: 0.0587 - accuracy: 0.9804 - val_loss: 0.0933 - val_accuracy: 0.9745\n",
      "Epoch 6/40\n",
      "37800/37800 [==============================] - 2s 53us/step - loss: 0.0452 - accuracy: 0.9855 - val_loss: 0.1103 - val_accuracy: 0.9693\n",
      "Epoch 7/40\n",
      "37800/37800 [==============================] - 2s 54us/step - loss: 0.0390 - accuracy: 0.9877 - val_loss: 0.0984 - val_accuracy: 0.9714\n",
      "Epoch 8/40\n",
      "37800/37800 [==============================] - 2s 53us/step - loss: 0.0324 - accuracy: 0.9891 - val_loss: 0.1191 - val_accuracy: 0.9707\n",
      "Epoch 9/40\n",
      "37800/37800 [==============================] - 2s 53us/step - loss: 0.0306 - accuracy: 0.9891 - val_loss: 0.1002 - val_accuracy: 0.9724\n",
      "Epoch 10/40\n",
      "37800/37800 [==============================] - 2s 53us/step - loss: 0.0270 - accuracy: 0.9912 - val_loss: 0.1058 - val_accuracy: 0.9755\n",
      "Epoch 11/40\n",
      "37800/37800 [==============================] - 2s 53us/step - loss: 0.0240 - accuracy: 0.9921 - val_loss: 0.1092 - val_accuracy: 0.9748\n",
      "Epoch 12/40\n",
      "37800/37800 [==============================] - 2s 53us/step - loss: 0.0223 - accuracy: 0.9926 - val_loss: 0.1079 - val_accuracy: 0.9748\n",
      "Epoch 13/40\n",
      "37800/37800 [==============================] - 2s 53us/step - loss: 0.0193 - accuracy: 0.9937 - val_loss: 0.1102 - val_accuracy: 0.9771\n",
      "Epoch 14/40\n",
      "37800/37800 [==============================] - 2s 53us/step - loss: 0.0184 - accuracy: 0.9936 - val_loss: 0.1231 - val_accuracy: 0.9721\n",
      "Epoch 15/40\n",
      "37800/37800 [==============================] - 2s 52us/step - loss: 0.0195 - accuracy: 0.9932 - val_loss: 0.1281 - val_accuracy: 0.9731\n",
      "Epoch 16/40\n",
      "37800/37800 [==============================] - 2s 52us/step - loss: 0.0145 - accuracy: 0.9955 - val_loss: 0.1199 - val_accuracy: 0.9752\n",
      "Epoch 17/40\n",
      "37800/37800 [==============================] - 2s 52us/step - loss: 0.0163 - accuracy: 0.9943 - val_loss: 0.1419 - val_accuracy: 0.9743\n",
      "Epoch 18/40\n",
      "37800/37800 [==============================] - 2s 52us/step - loss: 0.0184 - accuracy: 0.9939 - val_loss: 0.1268 - val_accuracy: 0.9748\n",
      "Epoch 19/40\n",
      "37800/37800 [==============================] - 2s 52us/step - loss: 0.0144 - accuracy: 0.9954 - val_loss: 0.1414 - val_accuracy: 0.9757\n",
      "Epoch 20/40\n",
      "37800/37800 [==============================] - 2s 52us/step - loss: 0.0135 - accuracy: 0.9956 - val_loss: 0.1201 - val_accuracy: 0.9764\n",
      "Epoch 21/40\n",
      "37800/37800 [==============================] - 2s 53us/step - loss: 0.0141 - accuracy: 0.9953 - val_loss: 0.1307 - val_accuracy: 0.9764\n",
      "Epoch 22/40\n",
      "37800/37800 [==============================] - 2s 52us/step - loss: 0.0131 - accuracy: 0.9956 - val_loss: 0.1550 - val_accuracy: 0.9724\n",
      "Epoch 23/40\n",
      "37800/37800 [==============================] - 2s 54us/step - loss: 0.0142 - accuracy: 0.9951 - val_loss: 0.1486 - val_accuracy: 0.9740\n",
      "Epoch 24/40\n",
      "37800/37800 [==============================] - 2s 52us/step - loss: 0.0130 - accuracy: 0.9959 - val_loss: 0.1341 - val_accuracy: 0.9762\n",
      "Epoch 25/40\n",
      "37800/37800 [==============================] - 2s 53us/step - loss: 0.0103 - accuracy: 0.9964 - val_loss: 0.1457 - val_accuracy: 0.9769\n",
      "Epoch 26/40\n",
      "37800/37800 [==============================] - 2s 54us/step - loss: 0.0100 - accuracy: 0.9967 - val_loss: 0.1297 - val_accuracy: 0.9788\n",
      "Epoch 27/40\n",
      "37800/37800 [==============================] - 2s 53us/step - loss: 0.0110 - accuracy: 0.9966 - val_loss: 0.1565 - val_accuracy: 0.9774\n",
      "Epoch 28/40\n",
      "37800/37800 [==============================] - 2s 52us/step - loss: 0.0148 - accuracy: 0.9950 - val_loss: 0.1485 - val_accuracy: 0.9762\n",
      "Epoch 29/40\n",
      "37800/37800 [==============================] - 2s 54us/step - loss: 0.0101 - accuracy: 0.9967 - val_loss: 0.1392 - val_accuracy: 0.9771\n",
      "Epoch 30/40\n",
      "37800/37800 [==============================] - 2s 53us/step - loss: 0.0075 - accuracy: 0.9976 - val_loss: 0.1588 - val_accuracy: 0.9748\n",
      "Epoch 31/40\n",
      "37800/37800 [==============================] - 2s 53us/step - loss: 0.0114 - accuracy: 0.9960 - val_loss: 0.1549 - val_accuracy: 0.9760\n",
      "Epoch 32/40\n",
      "37800/37800 [==============================] - 2s 52us/step - loss: 0.0084 - accuracy: 0.9969 - val_loss: 0.1623 - val_accuracy: 0.9786\n",
      "Epoch 33/40\n",
      "37800/37800 [==============================] - 2s 53us/step - loss: 0.0108 - accuracy: 0.9963 - val_loss: 0.1710 - val_accuracy: 0.9757\n",
      "Epoch 34/40\n",
      "37800/37800 [==============================] - 2s 52us/step - loss: 0.0123 - accuracy: 0.9960 - val_loss: 0.1512 - val_accuracy: 0.9769\n",
      "Epoch 35/40\n",
      "37800/37800 [==============================] - 2s 53us/step - loss: 0.0088 - accuracy: 0.9972 - val_loss: 0.1704 - val_accuracy: 0.9790\n",
      "Epoch 36/40\n",
      "37800/37800 [==============================] - 2s 52us/step - loss: 0.0104 - accuracy: 0.9969 - val_loss: 0.1654 - val_accuracy: 0.9771\n",
      "Epoch 37/40\n",
      "37800/37800 [==============================] - 2s 52us/step - loss: 0.0078 - accuracy: 0.9971 - val_loss: 0.1498 - val_accuracy: 0.9786\n",
      "Epoch 38/40\n",
      "37800/37800 [==============================] - 2s 53us/step - loss: 0.0073 - accuracy: 0.9979 - val_loss: 0.1750 - val_accuracy: 0.9757\n",
      "Epoch 39/40\n",
      "37800/37800 [==============================] - 2s 53us/step - loss: 0.0086 - accuracy: 0.9973 - val_loss: 0.1591 - val_accuracy: 0.9767\n",
      "Epoch 40/40\n",
      "37800/37800 [==============================] - 2s 54us/step - loss: 0.0104 - accuracy: 0.9965 - val_loss: 0.1557 - val_accuracy: 0.9779\n"
     ]
    },
    {
     "data": {
      "text/plain": [
       "<keras.callbacks.callbacks.History at 0x154aaddfeb90>"
      ]
     },
     "execution_count": 9,
     "metadata": {},
     "output_type": "execute_result"
    }
   ],
   "source": [
    "model.fit(X_train,Y_train,batch_size=128,epochs=40,validation_data=(X_dev,Y_dev))"
   ]
  },
  {
   "cell_type": "code",
   "execution_count": 28,
   "metadata": {},
   "outputs": [],
   "source": [
    "path=\".\"\n",
    "model_path=os.path.join(path,\"kaggle_mnist_model.h5\")\n",
    "model.save(model_path)"
   ]
  },
  {
   "cell_type": "code",
   "execution_count": 29,
   "metadata": {},
   "outputs": [],
   "source": [
    "mnist_model = load_model(model_path)\n",
    "output = model.predict_classes(X_test)"
   ]
  },
  {
   "cell_type": "code",
   "execution_count": 63,
   "metadata": {},
   "outputs": [],
   "source": [
    "with open(\"output.csv\",'w') as f:\n",
    "    csvwriter = csv.writer(f)\n",
    "    csvwriter.writerow([\"ImageId\",\"Label\"])\n",
    "    for i in range(len(X_test)):\n",
    "        label = model.predict_classes(np.array([X_test[i]]))\n",
    "        imageid=i+1\n",
    "        csvwriter.writerow([imageid,label[0]])"
   ]
  },
  {
   "cell_type": "code",
   "execution_count": 64,
   "metadata": {},
   "outputs": [
    {
     "data": {
      "text/html": [
       "<div>\n",
       "<style scoped>\n",
       "    .dataframe tbody tr th:only-of-type {\n",
       "        vertical-align: middle;\n",
       "    }\n",
       "\n",
       "    .dataframe tbody tr th {\n",
       "        vertical-align: top;\n",
       "    }\n",
       "\n",
       "    .dataframe thead th {\n",
       "        text-align: right;\n",
       "    }\n",
       "</style>\n",
       "<table border=\"1\" class=\"dataframe\">\n",
       "  <thead>\n",
       "    <tr style=\"text-align: right;\">\n",
       "      <th></th>\n",
       "      <th>ImageId</th>\n",
       "      <th>Label</th>\n",
       "    </tr>\n",
       "  </thead>\n",
       "  <tbody>\n",
       "    <tr>\n",
       "      <th>0</th>\n",
       "      <td>1</td>\n",
       "      <td>2</td>\n",
       "    </tr>\n",
       "    <tr>\n",
       "      <th>1</th>\n",
       "      <td>2</td>\n",
       "      <td>0</td>\n",
       "    </tr>\n",
       "    <tr>\n",
       "      <th>2</th>\n",
       "      <td>3</td>\n",
       "      <td>9</td>\n",
       "    </tr>\n",
       "    <tr>\n",
       "      <th>3</th>\n",
       "      <td>4</td>\n",
       "      <td>9</td>\n",
       "    </tr>\n",
       "    <tr>\n",
       "      <th>4</th>\n",
       "      <td>5</td>\n",
       "      <td>3</td>\n",
       "    </tr>\n",
       "    <tr>\n",
       "      <th>...</th>\n",
       "      <td>...</td>\n",
       "      <td>...</td>\n",
       "    </tr>\n",
       "    <tr>\n",
       "      <th>27995</th>\n",
       "      <td>27996</td>\n",
       "      <td>9</td>\n",
       "    </tr>\n",
       "    <tr>\n",
       "      <th>27996</th>\n",
       "      <td>27997</td>\n",
       "      <td>7</td>\n",
       "    </tr>\n",
       "    <tr>\n",
       "      <th>27997</th>\n",
       "      <td>27998</td>\n",
       "      <td>3</td>\n",
       "    </tr>\n",
       "    <tr>\n",
       "      <th>27998</th>\n",
       "      <td>27999</td>\n",
       "      <td>9</td>\n",
       "    </tr>\n",
       "    <tr>\n",
       "      <th>27999</th>\n",
       "      <td>28000</td>\n",
       "      <td>2</td>\n",
       "    </tr>\n",
       "  </tbody>\n",
       "</table>\n",
       "<p>28000 rows × 2 columns</p>\n",
       "</div>"
      ],
      "text/plain": [
       "       ImageId  Label\n",
       "0            1      2\n",
       "1            2      0\n",
       "2            3      9\n",
       "3            4      9\n",
       "4            5      3\n",
       "...        ...    ...\n",
       "27995    27996      9\n",
       "27996    27997      7\n",
       "27997    27998      3\n",
       "27998    27999      9\n",
       "27999    28000      2\n",
       "\n",
       "[28000 rows x 2 columns]"
      ]
     },
     "execution_count": 64,
     "metadata": {},
     "output_type": "execute_result"
    }
   ],
   "source": [
    "out_path = os.path.join(path,'output.csv')\n",
    "train_data = pandas.read_csv(out_path)\n",
    "train_data"
   ]
  },
  {
   "cell_type": "code",
   "execution_count": null,
   "metadata": {},
   "outputs": [],
   "source": []
  }
 ],
 "metadata": {
  "kernelspec": {
   "display_name": "Python 3",
   "language": "python",
   "name": "python3"
  },
  "language_info": {
   "codemirror_mode": {
    "name": "ipython",
    "version": 3
   },
   "file_extension": ".py",
   "mimetype": "text/x-python",
   "name": "python",
   "nbconvert_exporter": "python",
   "pygments_lexer": "ipython3",
   "version": "3.7.4"
  }
 },
 "nbformat": 4,
 "nbformat_minor": 2
}
