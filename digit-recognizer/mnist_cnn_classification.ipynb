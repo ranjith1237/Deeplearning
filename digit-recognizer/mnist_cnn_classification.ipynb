{
 "cells": [
  {
   "cell_type": "code",
   "execution_count": 83,
   "metadata": {},
   "outputs": [],
   "source": [
    "import os,csv,pandas\n",
    "import numpy as np\n",
    "from keras.models import Sequential,load_model\n",
    "from keras.layers import Conv2D,Dense,Activation,Flatten,Dropout\n",
    "from keras.utils import np_utils\n",
    "import matplotlib.pyplot as plt\n",
    "from sklearn.model_selection import train_test_split"
   ]
  },
  {
   "cell_type": "code",
   "execution_count": 84,
   "metadata": {},
   "outputs": [],
   "source": [
    "path=\"/ssd_scratch/cvit/ranjith\"\n",
    "x_train_path = os.path.join(path,'train.csv')\n",
    "x_test_path = os.path.join(path,'test.csv')\n",
    "train_data = pandas.read_csv(x_train_path)\n",
    "gt = train_data['label']\n",
    "labels_data = gt.to_numpy()\n",
    "labels = np_utils.to_categorical(labels_data)\n",
    "test_data = pandas.read_csv(x_test_path)\n",
    "df_train = train_data.drop('label', 1)\n",
    "data = df_train.to_numpy()\n",
    "x_test = test_data.to_numpy()"
   ]
  },
  {
   "cell_type": "code",
   "execution_count": 85,
   "metadata": {},
   "outputs": [],
   "source": [
    "data = data.reshape(42000,28,28,1)\n",
    "X_test = x_test.reshape(28000,28,28,1)"
   ]
  },
  {
   "cell_type": "code",
   "execution_count": 86,
   "metadata": {},
   "outputs": [],
   "source": [
    "X_train,X_dev,Y_train,Y_dev = train_test_split(data,labels,test_size=0.2)"
   ]
  },
  {
   "cell_type": "code",
   "execution_count": 74,
   "metadata": {},
   "outputs": [],
   "source": [
    "def mnist_cnn_model():\n",
    "    model = Sequential()\n",
    "    model.add(Conv2D(filters=64,kernel_size=3,activation='relu',input_shape=(28,28,1)))\n",
    "    model.add(Dropout(0.2))\n",
    "    model.add(Conv2D(filters=32,kernel_size=3,activation='relu'))\n",
    "    model.add(Flatten())\n",
    "    model.add(Dense(10,activation='softmax'))\n",
    "    return model\n",
    "model = mnist_cnn_model()"
   ]
  },
  {
   "cell_type": "code",
   "execution_count": 76,
   "metadata": {},
   "outputs": [],
   "source": [
    "model.compile(loss='categorical_crossentropy',metrics=['accuracy'],optimizer='adam')"
   ]
  },
  {
   "cell_type": "code",
   "execution_count": 79,
   "metadata": {},
   "outputs": [
    {
     "name": "stdout",
     "output_type": "stream",
     "text": [
      "Train on 33600 samples, validate on 8400 samples\n",
      "Epoch 1/10\n",
      "33600/33600 [==============================] - 52s 2ms/step - loss: 0.0868 - accuracy: 0.9746 - val_loss: 0.0881 - val_accuracy: 0.9731\n",
      "Epoch 2/10\n",
      "33600/33600 [==============================] - 50s 1ms/step - loss: 0.0499 - accuracy: 0.9846 - val_loss: 0.0809 - val_accuracy: 0.9768\n",
      "Epoch 3/10\n",
      "33600/33600 [==============================] - 50s 1ms/step - loss: 0.0394 - accuracy: 0.9869 - val_loss: 0.0904 - val_accuracy: 0.9770\n",
      "Epoch 4/10\n",
      "33600/33600 [==============================] - 50s 1ms/step - loss: 0.0297 - accuracy: 0.9903 - val_loss: 0.0930 - val_accuracy: 0.9770\n",
      "Epoch 5/10\n",
      "33600/33600 [==============================] - 50s 1ms/step - loss: 0.0226 - accuracy: 0.9922 - val_loss: 0.1074 - val_accuracy: 0.9783\n",
      "Epoch 6/10\n",
      "33600/33600 [==============================] - 50s 1ms/step - loss: 0.0191 - accuracy: 0.9937 - val_loss: 0.1086 - val_accuracy: 0.9775\n",
      "Epoch 7/10\n",
      "33600/33600 [==============================] - 50s 1ms/step - loss: 0.0179 - accuracy: 0.9940 - val_loss: 0.1239 - val_accuracy: 0.9751\n",
      "Epoch 8/10\n",
      "33600/33600 [==============================] - 50s 1ms/step - loss: 0.0167 - accuracy: 0.9948 - val_loss: 0.1247 - val_accuracy: 0.9758\n",
      "Epoch 9/10\n",
      "33600/33600 [==============================] - 50s 1ms/step - loss: 0.0172 - accuracy: 0.9948 - val_loss: 0.1549 - val_accuracy: 0.9742\n",
      "Epoch 10/10\n",
      "33600/33600 [==============================] - 50s 1ms/step - loss: 0.0171 - accuracy: 0.9945 - val_loss: 0.1356 - val_accuracy: 0.9777\n"
     ]
    },
    {
     "data": {
      "text/plain": [
       "<keras.callbacks.callbacks.History at 0x14d941e7b590>"
      ]
     },
     "execution_count": 79,
     "metadata": {},
     "output_type": "execute_result"
    }
   ],
   "source": [
    "model.fit(X_train,Y_train,batch_size=128,epochs=10,validation_data=(X_dev,Y_dev))"
   ]
  },
  {
   "cell_type": "code",
   "execution_count": 97,
   "metadata": {},
   "outputs": [],
   "source": [
    "path=\".\"\n",
    "model_path=os.path.join(path,\"kaggle_mnist_model_cnn.h5\")\n",
    "model.save(model_path)"
   ]
  },
  {
   "cell_type": "code",
   "execution_count": 98,
   "metadata": {},
   "outputs": [],
   "source": [
    "mnist_model = load_model(model_path)\n",
    "output = model.predict_classes(X_test)"
   ]
  },
  {
   "cell_type": "code",
   "execution_count": 99,
   "metadata": {},
   "outputs": [],
   "source": [
    "with open(\"output_cnn.csv\",'w') as f:\n",
    "    csvwriter = csv.writer(f)\n",
    "    csvwriter.writerow([\"ImageId\",\"Label\"])\n",
    "    for i in range(len(X_test)):\n",
    "        label = model.predict_classes(np.array([X_test[i]]))\n",
    "        imageid=i+1\n",
    "        csvwriter.writerow([imageid,label[0]])"
   ]
  },
  {
   "cell_type": "code",
   "execution_count": 101,
   "metadata": {},
   "outputs": [
    {
     "data": {
      "text/html": [
       "<div>\n",
       "<style scoped>\n",
       "    .dataframe tbody tr th:only-of-type {\n",
       "        vertical-align: middle;\n",
       "    }\n",
       "\n",
       "    .dataframe tbody tr th {\n",
       "        vertical-align: top;\n",
       "    }\n",
       "\n",
       "    .dataframe thead th {\n",
       "        text-align: right;\n",
       "    }\n",
       "</style>\n",
       "<table border=\"1\" class=\"dataframe\">\n",
       "  <thead>\n",
       "    <tr style=\"text-align: right;\">\n",
       "      <th></th>\n",
       "      <th>ImageId</th>\n",
       "      <th>Label</th>\n",
       "    </tr>\n",
       "  </thead>\n",
       "  <tbody>\n",
       "    <tr>\n",
       "      <th>0</th>\n",
       "      <td>1</td>\n",
       "      <td>2</td>\n",
       "    </tr>\n",
       "    <tr>\n",
       "      <th>1</th>\n",
       "      <td>2</td>\n",
       "      <td>0</td>\n",
       "    </tr>\n",
       "    <tr>\n",
       "      <th>2</th>\n",
       "      <td>3</td>\n",
       "      <td>9</td>\n",
       "    </tr>\n",
       "    <tr>\n",
       "      <th>3</th>\n",
       "      <td>4</td>\n",
       "      <td>0</td>\n",
       "    </tr>\n",
       "    <tr>\n",
       "      <th>4</th>\n",
       "      <td>5</td>\n",
       "      <td>3</td>\n",
       "    </tr>\n",
       "    <tr>\n",
       "      <th>...</th>\n",
       "      <td>...</td>\n",
       "      <td>...</td>\n",
       "    </tr>\n",
       "    <tr>\n",
       "      <th>27995</th>\n",
       "      <td>27996</td>\n",
       "      <td>9</td>\n",
       "    </tr>\n",
       "    <tr>\n",
       "      <th>27996</th>\n",
       "      <td>27997</td>\n",
       "      <td>7</td>\n",
       "    </tr>\n",
       "    <tr>\n",
       "      <th>27997</th>\n",
       "      <td>27998</td>\n",
       "      <td>3</td>\n",
       "    </tr>\n",
       "    <tr>\n",
       "      <th>27998</th>\n",
       "      <td>27999</td>\n",
       "      <td>9</td>\n",
       "    </tr>\n",
       "    <tr>\n",
       "      <th>27999</th>\n",
       "      <td>28000</td>\n",
       "      <td>2</td>\n",
       "    </tr>\n",
       "  </tbody>\n",
       "</table>\n",
       "<p>28000 rows × 2 columns</p>\n",
       "</div>"
      ],
      "text/plain": [
       "       ImageId  Label\n",
       "0            1      2\n",
       "1            2      0\n",
       "2            3      9\n",
       "3            4      0\n",
       "4            5      3\n",
       "...        ...    ...\n",
       "27995    27996      9\n",
       "27996    27997      7\n",
       "27997    27998      3\n",
       "27998    27999      9\n",
       "27999    28000      2\n",
       "\n",
       "[28000 rows x 2 columns]"
      ]
     },
     "execution_count": 101,
     "metadata": {},
     "output_type": "execute_result"
    }
   ],
   "source": [
    "out_path = os.path.join(path,'output_cnn.csv')\n",
    "train_data = pandas.read_csv(out_path)\n",
    "train_data"
   ]
  },
  {
   "cell_type": "code",
   "execution_count": null,
   "metadata": {},
   "outputs": [],
   "source": []
  }
 ],
 "metadata": {
  "kernelspec": {
   "display_name": "Python 3",
   "language": "python",
   "name": "python3"
  },
  "language_info": {
   "codemirror_mode": {
    "name": "ipython",
    "version": 3
   },
   "file_extension": ".py",
   "mimetype": "text/x-python",
   "name": "python",
   "nbconvert_exporter": "python",
   "pygments_lexer": "ipython3",
   "version": "3.7.4"
  }
 },
 "nbformat": 4,
 "nbformat_minor": 2
}
